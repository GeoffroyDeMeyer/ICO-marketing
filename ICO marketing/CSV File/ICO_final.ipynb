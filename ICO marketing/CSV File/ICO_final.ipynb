{
 "cells": [
  {
   "cell_type": "code",
   "execution_count": 4,
   "metadata": {},
   "outputs": [],
   "source": [
    "import numpy as np\n",
    "import csv\n",
    "import pandas as pd "
   ]
  },
  {
   "cell_type": "code",
   "execution_count": 5,
   "metadata": {},
   "outputs": [],
   "source": [
    "with open('ICO_final.csv', 'w', newline='') as csvfile :\n",
    "    ICO = pd.read_csv(\"/Users/GeoffroyDeMeyer/Desktop/Dathena/Projet/Dathena Network/CSV/ICO_youtube.csv\")\n",
    "    fieldnames = ['name', 'category', 'start', 'end', 'success', 'USD raised', 'USD aimed', 'ROI rate', \n",
    "                  'accepted currency', 'integrity', 'team', 'vision', 'product', 'marketing', 'community', \n",
    "                  'risk', 'youtube channel', 'ICO video', 'video count', 'view count', 'subscriber count', \n",
    "                  'critic video', 'website', 'whitepaper', 'facebook', 'twitter', 'follower', 'following', \n",
    "                  'total tweet', 'ICO tweet','instagram', 'linkedin', 'reddit', 'github', 'github repositories', \n",
    "                  'github repositories frequency','github commit', 'medium', 'bitcointalk', 'steemit',\n",
    "                  'CEO', 'cofounder', 'CTO', 'event', 'youtube channel link']\n",
    "    writer = csv.DictWriter(csvfile, fieldnames=fieldnames)\n",
    "    writer.writeheader()\n",
    "    \n",
    "    for k in range (0,len(ICO)) :\n",
    "        \n",
    "        data = { 'name' : ICO.iloc[k]['name'], 'category' : ICO.iloc[k]['category'], 'start' : ICO.iloc[k]['start'],\n",
    "                'end' : ICO.iloc[k]['end'], 'success' : 0, 'USD raised' : ICO.iloc[k]['USD raised'], 'USD aimed' : ICO.iloc[k]['USD aimed'], \n",
    "                'ROI rate' : ICO.iloc[k]['ROI rate'], 'accepted currency' : ICO.iloc[k]['accepted currency'],\n",
    "                'integrity' : ICO.iloc[k]['integrity'], 'team' : ICO.iloc[k]['team'], 'vision' : ICO.iloc[k]['vision'],\n",
    "                'product' : ICO.iloc[k]['product'], 'marketing' : ICO.iloc[k]['marketing'], 'community' : ICO.iloc[k]['community'], \n",
    "                'risk' : ICO.iloc[k]['risk'],'youtube channel' : ICO.iloc[k]['youtube channel'], 'ICO video': ICO.iloc[k]['video'], 'video count' : ICO.iloc[k]['video count'], 'view count' : ICO.iloc[k]['view count'], 'subscriber count' : ICO.iloc[k]['subscriber count'] , 'critic video' : ICO.iloc[k]['critic video'] ,'website': ICO.iloc[k]['website'],\n",
    "                'whitepaper': ICO.iloc[k]['whitepaper'], 'facebook' : ICO.iloc[k]['facebook'], 'twitter' : ICO.iloc[k]['twitter'], \n",
    "                'follower' : ICO.iloc[k]['follower'], 'following' : ICO.iloc[k]['following'], 'total tweet' : ICO.iloc[k]['total tweet'], 'ICO tweet' : ICO.iloc[k]['ICO tweet'], 'instagram' : ICO.iloc[k]['instagram'], 'linkedin' : ICO.iloc[k]['linkedin'], \n",
    "                'reddit' : ICO.iloc[k]['reddit'], 'github' : ICO.iloc[k]['github'], 'github repositories' : ICO.iloc[k]['github repositories'] , 'github repositories frequency' : ICO.iloc[k]['github repositories frequency'], 'github commit' : ICO.iloc[k]['github commit'], \n",
    "                'medium' : ICO.iloc[k]['medium'], 'bitcointalk' : ICO.iloc[k]['bitcointalk'], 'steemit' : ICO.iloc[k]['steemit'], \n",
    "                 'CEO' : ICO.iloc[k]['CEO'], 'cofounder' : ICO.iloc[k]['cofounder'], \n",
    "                'CTO': ICO.iloc[k]['CTO'], 'event' : ICO.iloc[k]['event']}\n",
    "        \n",
    "        \n",
    "        if ICO.iloc[k]['USD raised'] > 0.8 * ICO.iloc[k]['USD aimed'] :\n",
    "            data['success'] += 1\n",
    "        else :\n",
    "            data['success'] = 0\n",
    "            \n",
    "        L = ['low','low-mid','mid','mid-high','high'] \n",
    "        \n",
    "        data['marketing'] = L.index(ICO.iloc[k]['marketing'])\n",
    "        data['community'] = L.index(ICO.iloc[k]['community'])\n",
    "        data['risk'] = L.index(ICO.iloc[k]['risk'])\n",
    "        \n",
    "        writer.writerow(data)\n",
    "        \n",
    "    \n",
    "    "
   ]
  },
  {
   "cell_type": "code",
   "execution_count": null,
   "metadata": {},
   "outputs": [],
   "source": []
  }
 ],
 "metadata": {
  "kernelspec": {
   "display_name": "Python 3",
   "language": "python",
   "name": "python3"
  },
  "language_info": {
   "codemirror_mode": {
    "name": "ipython",
    "version": 3
   },
   "file_extension": ".py",
   "mimetype": "text/x-python",
   "name": "python",
   "nbconvert_exporter": "python",
   "pygments_lexer": "ipython3",
   "version": "3.6.5"
  }
 },
 "nbformat": 4,
 "nbformat_minor": 2
}
