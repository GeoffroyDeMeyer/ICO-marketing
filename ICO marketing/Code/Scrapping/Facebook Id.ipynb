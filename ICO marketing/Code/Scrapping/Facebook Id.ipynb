{
 "cells": [
  {
   "cell_type": "code",
   "execution_count": 22,
   "metadata": {},
   "outputs": [],
   "source": [
    "from requests_html import HTMLSession\n",
    "import numpy as np\n",
    "import csv\n",
    "import pandas as pd \n",
    "session = HTMLSession()"
   ]
  },
  {
   "cell_type": "code",
   "execution_count": 41,
   "metadata": {},
   "outputs": [
    {
     "name": "stdout",
     "output_type": "stream",
     "text": [
      "This page isn't available\n",
      "The link you followed may be broken, or the page may have been removed.\n",
      "Go back to the previous page · Go to News Feed · Visit our Help Centre\n",
      "English (UK)\n",
      "中文(简体)\n",
      "Bahasa Indonesia\n",
      "日本語\n",
      "ภาษาไทย\n",
      "Tiếng Việt\n",
      "한국어\n",
      "Español\n",
      "Português (Brasil)\n",
      "Français (France)\n",
      "Deutsch\n",
      "Sign Up\n",
      "Log In\n",
      "Messenger\n",
      "Facebook Lite\n",
      "Mobile\n",
      "Find Friends\n",
      "People\n",
      "Pages\n",
      "Places\n",
      "Games\n",
      "Locations\n",
      "Marketplace\n",
      "Videos\n",
      "Groups\n",
      "Recipes\n",
      "Sports\n",
      "Instagram\n",
      "Local\n",
      "About\n",
      "Create ad\n",
      "Create Page\n",
      "Developers\n",
      "Careers\n",
      "Privacy\n",
      "Cookies\n",
      "AdChoices\n",
      "Terms\n",
      "Help\n",
      "Settings\n",
      "Activity log\n",
      "Facebook © 2018\n"
     ]
    }
   ],
   "source": [
    "ICO_final = pd.read_csv(\"/Users/GeoffroyDeMeyer/Desktop/Dathena/Projets/ICO/CSV Data/ICO_final.csv\")\n",
    "adress = 'https://www.facebook.com/search/str/' + str(ICO_final.iloc[1]['name']).replace(' ','') + '/keywords_search'\n",
    "page = session.get(adress)\n",
    "div = page.html.find('#globalContainer')\n",
    "div = div[0]\n",
    "print(div.text)\n",
    "\n"
   ]
  },
  {
   "cell_type": "code",
   "execution_count": null,
   "metadata": {},
   "outputs": [],
   "source": [
    "with open('ICO_final_1.csv', 'w', newline='') as csvfile :\n",
    "    ICO_final = pd.read_csv(\"/Users/GeoffroyDeMeyer/Desktop/Dathena/Projets/ICO/CSV Data/ICO_final.csv\")\n",
    "    fieldnames = ['name', 'USD raised', 'ROI rate', 'USD aimed', 'video', 'critic videos', 'telegram', 'website', 'whitepaper', 'facebook', 'reddit', 'twitter', 'airbloc', 'github', 'youtube channel', 'facebook id']\n",
    "    writer = csv.DictWriter(csvfile, fieldnames=fieldnames)\n",
    "    writer.writeheader()\n",
    "    \n",
    "    for k in range(0,len(ICO_final)):\n",
    "        adress = 'https://www.facebook.com/search/str/' + str(ICO_final.iloc[k]['name']) + '/keywords_search'\n",
    "        page = session.get(adress)"
   ]
  }
 ],
 "metadata": {
  "kernelspec": {
   "display_name": "Python 3",
   "language": "python",
   "name": "python3"
  },
  "language_info": {
   "codemirror_mode": {
    "name": "ipython",
    "version": 3
   },
   "file_extension": ".py",
   "mimetype": "text/x-python",
   "name": "python",
   "nbconvert_exporter": "python",
   "pygments_lexer": "ipython3",
   "version": "3.6.5"
  }
 },
 "nbformat": 4,
 "nbformat_minor": 2
}
