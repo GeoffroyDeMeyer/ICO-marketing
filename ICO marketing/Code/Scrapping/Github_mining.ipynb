{
 "cells": [
  {
   "cell_type": "code",
   "execution_count": 75,
   "metadata": {},
   "outputs": [],
   "source": [
    "from requests_html import HTMLSession\n",
    "import csv\n",
    "import pandas as pd\n",
    "import numpy as np\n",
    "import datetime\n",
    "session = HTMLSession()"
   ]
  },
  {
   "cell_type": "code",
   "execution_count": 79,
   "metadata": {},
   "outputs": [],
   "source": [
    "ICO = pd.read_csv('/Users/GeoffroyDeMeyer/Desktop/Dathena/Projets/ICO/CSV Data/ICO_twitter.csv')"
   ]
  },
  {
   "cell_type": "code",
   "execution_count": 119,
   "metadata": {},
   "outputs": [
    {
     "name": "stdout",
     "output_type": "stream",
     "text": [
      "2018-07-01 00:00:00 2018-07-01 00:00:00 0\n",
      "2018-06-28 00:00:00 2018-06-28 00:00:00 0\n",
      "2018-06-28 00:00:00 2018-06-28 00:00:00 0\n",
      "2018-06-27 00:00:00 2018-06-27 00:00:00 0\n",
      "2018-04-05 00:00:00 2018-04-05 00:00:00 0\n",
      "2018-02-09 00:00:00 2018-02-09 00:00:00 0\n",
      "2018-05-24 00:00:00 2018-05-24 00:00:00 0\n",
      "2018-01-30 00:00:00 2018-01-30 00:00:00 0\n",
      "2018-01-16 00:00:00 2018-01-16 00:00:00 0\n",
      "2018-03-19 00:00:00 2018-03-19 00:00:00 0\n",
      "2018-06-29 00:00:00 2018-06-29 00:00:00 0\n",
      "2017-08-11 00:00:00 2017-08-11 00:00:00 0\n",
      "2018-05-17 00:00:00 2018-05-17 00:00:00 0\n",
      "2018-06-27 00:00:00 2018-06-27 00:00:00 0\n",
      "2017-11-24 00:00:00 2017-11-24 00:00:00 0\n",
      "2018-06-30 00:00:00 2018-06-30 00:00:00 0\n",
      "2018-04-30 00:00:00 2018-04-30 00:00:00 0\n",
      "2018-06-29 00:00:00 2018-03-30 00:00:00 91\n",
      "2017-10-09 00:00:00 2017-10-09 00:00:00 0\n",
      "2018-06-18 00:00:00 2018-06-18 00:00:00 0\n",
      "2018-04-27 00:00:00 2018-04-27 00:00:00 0\n",
      "2017-11-26 00:00:00 2017-11-26 00:00:00 0\n",
      "2018-05-22 00:00:00 2018-05-22 00:00:00 0\n",
      "2018-02-19 00:00:00 2018-02-19 00:00:00 0\n",
      "2018-06-21 00:00:00 2018-06-21 00:00:00 0\n",
      "2017-12-14 00:00:00 2017-12-14 00:00:00 0\n",
      "2017-11-28 00:00:00 2017-11-28 00:00:00 0\n",
      "2017-09-23 00:00:00 2017-09-23 00:00:00 0\n",
      "2017-09-21 00:00:00 2017-09-21 00:00:00 0\n",
      "2017-10-10 00:00:00 2017-10-10 00:00:00 0\n",
      "2017-10-27 00:00:00 2017-10-27 00:00:00 0\n",
      "2017-10-24 00:00:00 2017-10-24 00:00:00 0\n",
      "2018-05-03 00:00:00 2018-05-03 00:00:00 0\n",
      "2018-06-28 00:00:00 2018-06-28 00:00:00 0\n",
      "2018-02-24 00:00:00 2018-02-24 00:00:00 0\n",
      "2018-06-12 00:00:00 2018-06-12 00:00:00 0\n",
      "2017-08-31 00:00:00 2017-08-31 00:00:00 0\n",
      "2017-09-13 00:00:00 2017-09-13 00:00:00 0\n",
      "2018-06-30 00:00:00 2018-06-30 00:00:00 0\n",
      "2018-05-04 00:00:00 2018-05-04 00:00:00 0\n",
      "2018-02-17 00:00:00 2018-02-17 00:00:00 0\n",
      "2018-04-08 00:00:00 2018-04-08 00:00:00 0\n",
      "2018-02-08 00:00:00 2018-02-08 00:00:00 0\n",
      "2018-04-09 00:00:00 2018-04-09 00:00:00 0\n",
      "2018-03-26 00:00:00 2018-03-26 00:00:00 0\n",
      "2018-03-10 00:00:00 2018-03-10 00:00:00 0\n",
      "2018-05-17 00:00:00 2018-05-17 00:00:00 0\n",
      "2018-02-08 00:00:00 2018-02-08 00:00:00 0\n",
      "2018-05-10 00:00:00 2018-05-10 00:00:00 0\n"
     ]
    }
   ],
   "source": [
    "with open('ICO_github.csv', 'w', newline='') as csvfile:\n",
    "    fieldnames = ['name', 'category', 'start', 'end', 'USD raised', 'USD aimed', 'ROI rate', 'accepted currency', 'integrity', 'team', 'vision', 'product', 'marketing', 'community', 'risk', 'video', 'website', 'whitepaper', 'facebook', 'twitter', 'follower', 'following', 'total tweet', 'ICO tweet','instagram', 'linkedin', 'reddit', 'github', 'github repositories', 'github repositories frequency','github commit', 'github commit frequency', 'youtube channel', 'medium', 'bitcointalk', 'steemit', 'slack', 'CEO', 'cofounder', 'CTO', 'event', 'youtube channel link']\n",
    "    writer = csv.DictWriter(csvfile, fieldnames=fieldnames)\n",
    "    writer.writeheader()\n",
    "    \n",
    "\n",
    "        \n",
    "\n",
    "\n",
    "    for k in range (0,len(ICO)) :\n",
    "        \n",
    "        \n",
    "        data = { 'name' : ICO.iloc[k]['name'], 'category' : ICO.iloc[k]['category'], 'start' : ICO.iloc[k]['start'],\n",
    "                'end' : ICO.iloc[k]['end'], 'USD raised' : ICO.iloc[k]['USD raised'], 'USD aimed' : ICO.iloc[k]['USD aimed'], \n",
    "                'ROI rate' : ICO.iloc[k]['ROI rate'], 'accepted currency' : ICO.iloc[k]['accepted currency'],\n",
    "                'integrity' : ICO.iloc[k]['integrity'], 'team' : ICO.iloc[k]['team'], 'vision' : ICO.iloc[k]['vision'],\n",
    "                'product' : ICO.iloc[k]['product'], 'marketing' : ICO.iloc[k]['marketing'], 'community' : ICO.iloc[k]['community'], \n",
    "                'risk' : ICO.iloc[k]['risk'],'video': ICO.iloc[k]['video'],  'website': ICO.iloc[k]['website'],\n",
    "                'whitepaper': ICO.iloc[k]['whitepaper'], 'facebook' : ICO.iloc[k]['facebook'], 'twitter' : ICO.iloc[k]['twitter'], \n",
    "                'follower' : ICO.iloc[k]['follower'], 'following' : ICO.iloc[k]['following'], 'total tweet' : ICO.iloc[k]['total tweet'], 'ICO tweet' : ICO.iloc[k]['ICO tweet'], 'instagram' : ICO.iloc[k]['instagram'], 'linkedin' : ICO.iloc[k]['linkedin'], \n",
    "                'reddit' : ICO.iloc[k]['reddit'], 'github' : ICO.iloc[k]['github'], 'github repositories' : 0 , 'github repositories frequency' : 0, 'github commit' : 0, 'github commit frequency' : 0,'youtube channel' : ICO.iloc[k]['youtube channel'], \n",
    "                'medium' : ICO.iloc[k]['medium'], 'bitcointalk' : ICO.iloc[k]['bitcointalk'], 'steemit' : ICO.iloc[k]['steemit'], \n",
    "                'slack' : ICO.iloc[k]['slack'], 'CEO' : ICO.iloc[k]['CEO'], 'cofounder' : ICO.iloc[k]['cofounder'], \n",
    "                'CTO': ICO.iloc[k]['CTO'], 'event' : ICO.iloc[k]['event'],\n",
    "                'youtube channel link' : ICO.iloc[k]['youtube channel link']}\n",
    "        \n",
    "        \n",
    "        \n",
    "        if ICO.iloc[k]['github link'] != ' ' :\n",
    "            adress = 'https://github.com/' + str(ICO.iloc[k]['github link'])\n",
    "            r = session.get(adress)\n",
    "        \n",
    "        \n",
    "            div = r.html.find('.pagehead-tabs-item.selected')\n",
    "            if div != []:\n",
    "                repositories = int(div[0].text.replace('Repositories','').replace(',','').replace('Repositorie',''))\n",
    "                data['github repositories'] += repositories\n",
    "                div = r.html.find('.org-repos.repo-list')\n",
    "                div = div[0].find('li')\n",
    "                \n",
    "                if div != [] :\n",
    "\n",
    "                    start = div[0].find('relative-time')\n",
    "                    start = start[0].attrs['datetime'][0:10]\n",
    "                    start = datetime.datetime(int(start[0:4]), int(start[5:7]), int(start[8:10]))\n",
    "                    \n",
    "                    max = min(len(div)-1,30)\n",
    "\n",
    "                    end = div[max].find('relative-time')\n",
    "                    end = end[0].attrs['datetime'][0:10]\n",
    "                    end = datetime.datetime(int(end[0:4]), int(end[5:7]), int(end[8:10]))\n",
    "\n",
    "                    period = start - end\n",
    "                    period = int(str(period).replace(' days, 0:00:00','').replace(':00:00',''))\n",
    "                \n",
    "                    if period != 0 : \n",
    "                        frequency = len(div)/period\n",
    "                        frequency  = round(frequency,3)\n",
    "                        data['github repositories frequency'] += frequency\n",
    "                \n",
    "            \n",
    "            div = r.html.find('.commits')\n",
    "            if div != []:\n",
    "                commits = int(div[0].text.replace(' commits','').replace(',','').replace(' commit',''))\n",
    "                data['github commit'] += commits\n",
    "                r = session.get(adress + '/commits')\n",
    "                div = r.html.find('.commit-group.table-list.table-list-bordered')\n",
    "                \n",
    "                div = div[0].find('li')\n",
    "                \n",
    "                if div != [] :\n",
    "\n",
    "                    start = div[0].find('relative-time')\n",
    "                    start = start[0].attrs['datetime'][0:10]\n",
    "                    start = datetime.datetime(int(start[0:4]), int(start[5:7]), int(start[8:10]))\n",
    "                    \n",
    "                    r = r = session.get(adress + '/commits/master')\n",
    "                    div = r.html.find('.commits-listing.commits-listing-padded.js-navigation-container.js-active-navigation-container')\n",
    "                    max = min(len(div)-1,30)\n",
    "\n",
    "                    end = div[max].find('relative-time')\n",
    "                    end = end[0].attrs['datetime'][0:10]\n",
    "                    end = datetime.datetime(int(end[0:4]), int(end[5:7]), int(end[8:10]))\n",
    "\n",
    "                    period = start - end\n",
    "                    period = int(str(period).replace(' days, 0:00:00','').replace(':00:00',''))\n",
    "                \n",
    "                \n",
    "                    if period != 0 :\n",
    "                        frequency = len(div)/period\n",
    "                        frequency  = round(frequency,3)\n",
    "                        data['github commit frequency'] += frequency \n",
    "                \n",
    "                \n",
    "        writer.writerow(data)\n",
    "            \n",
    "        \n",
    "        "
   ]
  },
  {
   "cell_type": "code",
   "execution_count": 118,
   "metadata": {},
   "outputs": [
    {
     "name": "stdout",
     "output_type": "stream",
     "text": [
      "35\n",
      "35\n"
     ]
    }
   ],
   "source": [
    "r = session.get('https://github.com/ArweaveTeam/arweave/commits/master')\n",
    "div = r.html.find('.commits-listing.commits-listing-padded.js-navigation-container.js-active-navigation-container') \n",
    "                \n",
    "div = div[0].find('li')\n",
    "print(len(div))\n",
    "                \n",
    "if div != [] :\n",
    "\n",
    "    start = div[0].find('relative-time')\n",
    "    start = start[0].attrs['datetime'][0:10]\n",
    "    start = datetime.datetime(int(start[0:4]), int(start[5:7]), int(start[8:10]))\n",
    "    print(len(div))\n",
    "    max = min(len(div), 30)\n",
    "\n",
    "    end = div[max].find('relative-time')\n",
    "    end = end[0].attrs['datetime'][0:10]\n",
    "    end = datetime.datetime(int(end[0:4]), int(end[5:7]), int(end[8:10]))\n",
    "\n",
    "    period = start - end\n",
    "    period = int(str(period).replace(' days, 0:00:00','').replace(':00:00',''))\n",
    "                \n",
    "                \n",
    "    if period != 0 :\n",
    "        frequency = len(div)/period\n",
    "        frequency  = round(frequency,3)\n",
    "        data['github commit frequency'] += frequency "
   ]
  },
  {
   "cell_type": "code",
   "execution_count": 18,
   "metadata": {},
   "outputs": [
    {
     "data": {
      "text/plain": [
       "15"
      ]
     },
     "execution_count": 18,
     "metadata": {},
     "output_type": "execute_result"
    }
   ],
   "source": [
    "min(15,20)"
   ]
  },
  {
   "cell_type": "code",
   "execution_count": 87,
   "metadata": {},
   "outputs": [],
   "source": [
    "period = datetime.date(2012,12,1) - datetime.date(2012,12,1)"
   ]
  },
  {
   "cell_type": "code",
   "execution_count": 94,
   "metadata": {},
   "outputs": [
    {
     "name": "stdout",
     "output_type": "stream",
     "text": [
      "0\n"
     ]
    }
   ],
   "source": [
    "print(int(str(period).replace(':00:00','')))\n"
   ]
  }
 ],
 "metadata": {
  "kernelspec": {
   "display_name": "Python 3",
   "language": "python",
   "name": "python3"
  },
  "language_info": {
   "codemirror_mode": {
    "name": "ipython",
    "version": 3
   },
   "file_extension": ".py",
   "mimetype": "text/x-python",
   "name": "python",
   "nbconvert_exporter": "python",
   "pygments_lexer": "ipython3",
   "version": "3.6.5"
  }
 },
 "nbformat": 4,
 "nbformat_minor": 2
}
