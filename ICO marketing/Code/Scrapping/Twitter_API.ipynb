{
 "cells": [
  {
   "cell_type": "code",
   "execution_count": 152,
   "metadata": {},
   "outputs": [],
   "source": [
    "import tweepy\n",
    "import pandas as pd\n",
    "import csv\n",
    "import datetime"
   ]
  },
  {
   "cell_type": "code",
   "execution_count": 153,
   "metadata": {},
   "outputs": [],
   "source": [
    "tweepy.OAuthHandler    \n",
    "    \n",
    "auth = tweepy.OAuthHandler( 'upmHCTgMZsO827vbyAj6WJkw6', 'd4Blx39le8iTs9PlVSFJDw7EaEqq1dKncCAk1sWdeUbAvUj2cP')\n",
    "auth.set_access_token('1971112454-WAvYQwtVDWQopStQkWnV9ACswG0zZQeVSDScj5b', 'snz4ghUyaj4Wq4Dgrdq4IpGfXiIQQnPYAtOzUYetZooCS' )\n",
    " \n",
    "api = tweepy.API(auth)\n"
   ]
  },
  {
   "cell_type": "code",
   "execution_count": 154,
   "metadata": {},
   "outputs": [],
   "source": [
    "ICO = pd.read_csv(\"/Users/GeoffroyDeMeyer/Desktop/Dathena/Projets/ICO/CSV Data/ICO_1.csv\") "
   ]
  },
  {
   "cell_type": "code",
   "execution_count": 156,
   "metadata": {},
   "outputs": [],
   "source": [
    "with open('ICO_twitter.csv', 'w', newline='') as csvfile:\n",
    "    fieldnames = ['name', 'category', 'start', 'end', 'success','USD raised', 'USD aimed', 'ROI rate', 'accepted currency', 'integrity', 'team', 'vision', 'product', 'marketing', 'community', 'risk', 'video', 'website', 'whitepaper', 'facebook', 'twitter', 'follower', 'following', 'total tweet', 'ICO tweet','instagram', 'linkedin', 'reddit', 'github', 'youtube channel', 'medium', 'bitcointalk', 'steemit', 'slack', 'CEO', 'cofounder', 'CTO', 'event', 'youtube channel link', 'github link']\n",
    "    writer = csv.DictWriter(csvfile, fieldnames=fieldnames)\n",
    "    writer.writeheader() \n",
    "    \n",
    "    \n",
    "   \n",
    "    month = datetime.timedelta(30)\n",
    "\n",
    "    for k in range(0,len(ICO)) :\n",
    "        \n",
    "        \n",
    "        \n",
    "        data = { 'name' : ICO.iloc[k]['name'], 'category' : ICO.iloc[k]['category'], 'start' : ICO.iloc[k]['start'],\n",
    "                'end' : ICO.iloc[k]['end'], 'success' : 0,'USD raised' : ICO.iloc[k]['USD raised'], 'USD aimed' : ICO.iloc[k]['USD aimed'], \n",
    "                'ROI rate' : ICO.iloc[k]['ROI rate'], 'accepted currency' : ICO.iloc[k]['accepted currency'],\n",
    "                'integrity' : ICO.iloc[k]['integrity'], 'team' : ICO.iloc[k]['team'], 'vision' : ICO.iloc[k]['vision'],\n",
    "                'product' : ICO.iloc[k]['product'], 'marketing' : ICO.iloc[k]['marketing'], 'community' : ICO.iloc[k]['community'], \n",
    "                'risk' : ICO.iloc[k]['risk'],'video': ICO.iloc[k]['video'],  'website': ICO.iloc[k]['website'],\n",
    "                'whitepaper': ICO.iloc[k]['whitepaper'], 'facebook' : ICO.iloc[k]['facebook'], 'twitter' : ICO.iloc[k]['twitter'], \n",
    "                'follower' : 0, 'following' : 0, 'total tweet' : 0, 'ICO tweet' : 0, 'instagram' : ICO.iloc[k]['instagram'], 'linkedin' : ICO.iloc[k]['linkedin'], \n",
    "                'reddit' : ICO.iloc[k]['reddit'], 'github' : ICO.iloc[k]['github'], 'youtube channel' : ICO.iloc[k]['youtube channel'], \n",
    "                'medium' : ICO.iloc[k]['medium'], 'bitcointalk' : ICO.iloc[k]['bitcointalk'], 'steemit' : ICO.iloc[k]['steemit'], \n",
    "                'slack' : ICO.iloc[k]['slack'], 'CEO' : ICO.iloc[k]['CEO'], 'cofounder' : ICO.iloc[k]['cofounder'], \n",
    "                'CTO': ICO.iloc[k]['CTO'], 'event' : ICO.iloc[k]['event'],\n",
    "                'youtube channel link' : ICO.iloc[k]['youtube channel link'], 'github link' : ICO.iloc[k]['github link']}\n",
    "        \n",
    "        if ICO.iloc[k]['USD raised'] >= 0.8 * ICO.iloc[k]['USD aimed'] :\n",
    "            data['success'] += 1\n",
    "        \n",
    "        if ICO.twitter[k] != 0 :\n",
    "            try:\n",
    "                user = api.get_user(str(ICO['twitter link'].values[k]))\n",
    "                timeline = api.user_timeline(user.id, count = user.statuses_count)\n",
    "            except Exception:\n",
    "                writer.writerow(data)\n",
    "                continue\n",
    "            \n",
    "        \n",
    "            data['follower'] = user.followers_count\n",
    "            data['following'] = user.friends_count\n",
    "            data['total tweet'] = user.statuses_count\n",
    "    \n",
    "            #timeline = api.user_timeline(user.id, count = tweet_number)\n",
    "        \n",
    "\n",
    "            if len(ICO.end.values[k]) == 10 : \n",
    "                end_year = int(ICO.end.values[k][:4])\n",
    "                end_month = int(ICO.end.values[k][5:7])\n",
    "                end_day = int(ICO.end.values[k][8:])\n",
    "                end_date = datetime.datetime(end_year, end_month, end_day)\n",
    "        \n",
    "            else :\n",
    "                end_year = int(ICO.start.values[k][:4])\n",
    "                end_month = int(ICO.start.values[k][5:7])\n",
    "                end_date = datetime.datetime(end_year, end_month, 1)\n",
    "                \n",
    "                \n",
    "            if ICO.start.values[k] == ' ' :\n",
    "                start_date = end_date - month\n",
    "                \n",
    "\n",
    "            elif len(ICO.start.values[k]) == 10 : \n",
    "                start_year = int(ICO.start.values[k][:4])\n",
    "                start_month = int(ICO.start.values[k][5:7])\n",
    "                start_day = int(ICO.start.values[k][8:])\n",
    "                start_date = datetime.datetime(start_year, start_month, start_day)\n",
    "                start_date -= month \n",
    "        \n",
    "            else :\n",
    "                start_year = int(ICO.start.values[k][:4])\n",
    "                start_month = int(ICO.start.values[k][5:7])\n",
    "                start_date = datetime.datetime(start_year, start_month, 1)\n",
    "                start_date -= month \n",
    "\n",
    "            j = 0\n",
    "            lon = len(timeline)\n",
    "            while j < lon and timeline[j].created_at > end_date :\n",
    "                j += 1\n",
    "            j += 1\n",
    "            compteur = j\n",
    "            event = 0\n",
    "            L = ['pitch','Demo', 'conference','event', 'summit', 'Lab', 'meet', 'interview']\n",
    "            while j < lon and timeline[j].created_at > start_date :\n",
    "                for keyword in L :\n",
    "                    if keyword in timeline[j].text :\n",
    "                             event += 1\n",
    "                j += 1\n",
    "            j += 1\n",
    "            number_tweet = j - compteur\n",
    "            \n",
    "            data['event'] += event\n",
    "        \n",
    "            data['ICO tweet'] = number_tweet\n",
    "        \n",
    "            writer.writerow(data)\n",
    "            \n",
    "        else:\n",
    "            writer.writerow(data)\n",
    "    \n"
   ]
  },
  {
   "cell_type": "code",
   "execution_count": 139,
   "metadata": {},
   "outputs": [
    {
     "data": {
      "text/plain": [
       "38"
      ]
     },
     "execution_count": 139,
     "metadata": {},
     "output_type": "execute_result"
    }
   ],
   "source": [
    "user = api.get_user('DathenaScience')\n",
    "\n",
    "\n",
    "follower = user.followers_count\n",
    "following = user.friends_count\n",
    "tweet_number = user.statuses_count\n",
    "\n",
    "\n",
    "\n",
    "timeline = api.user_timeline(user.id, count = tweet_number)\n",
    "\n",
    "\n",
    "\n"
   ]
  },
  {
   "cell_type": "code",
   "execution_count": 146,
   "metadata": {},
   "outputs": [
    {
     "ename": "TypeError",
     "evalue": "'in <string>' requires string as left operand, not list",
     "output_type": "error",
     "traceback": [
      "\u001b[0;31m---------------------------------------------------------------------------\u001b[0m",
      "\u001b[0;31mTypeError\u001b[0m                                 Traceback (most recent call last)",
      "\u001b[0;32m<ipython-input-146-c9d547b7f92f>\u001b[0m in \u001b[0;36m<module>\u001b[0;34m()\u001b[0m\n\u001b[1;32m      1\u001b[0m \u001b[0mcompteur\u001b[0m \u001b[0;34m=\u001b[0m \u001b[0;36m0\u001b[0m\u001b[0;34m\u001b[0m\u001b[0m\n\u001b[1;32m      2\u001b[0m \u001b[0;32mfor\u001b[0m \u001b[0melmt\u001b[0m \u001b[0;32min\u001b[0m \u001b[0mtimeline\u001b[0m \u001b[0;34m:\u001b[0m\u001b[0;34m\u001b[0m\u001b[0m\n\u001b[0;32m----> 3\u001b[0;31m     \u001b[0;32mif\u001b[0m \u001b[0;34m[\u001b[0m\u001b[0;34m'pitch'\u001b[0m\u001b[0;34m,\u001b[0m\u001b[0;34m'Demo'\u001b[0m\u001b[0;34m]\u001b[0m \u001b[0;32min\u001b[0m \u001b[0melmt\u001b[0m\u001b[0;34m.\u001b[0m\u001b[0mtext\u001b[0m \u001b[0;34m:\u001b[0m\u001b[0;34m\u001b[0m\u001b[0m\n\u001b[0m\u001b[1;32m      4\u001b[0m          \u001b[0mcompteur\u001b[0m \u001b[0;34m+=\u001b[0m \u001b[0;36m1\u001b[0m\u001b[0;34m\u001b[0m\u001b[0m\n\u001b[1;32m      5\u001b[0m \u001b[0mcompteur\u001b[0m\u001b[0;34m\u001b[0m\u001b[0m\n",
      "\u001b[0;31mTypeError\u001b[0m: 'in <string>' requires string as left operand, not list"
     ]
    }
   ],
   "source": [
    "compteur = 0 \n",
    "L = ['pitch','Demo', 'conference','event', 'summit', 'Lab', 'meet', 'interview']\n",
    "for elmt in timeline :\n",
    "    for keyword in L \n",
    "        if keyword in elmt.text :\n",
    "             compteur += 1\n",
    "compteur "
   ]
  },
  {
   "cell_type": "code",
   "execution_count": null,
   "metadata": {},
   "outputs": [],
   "source": []
  }
 ],
 "metadata": {
  "kernelspec": {
   "display_name": "Python 3",
   "language": "python",
   "name": "python3"
  },
  "language_info": {
   "codemirror_mode": {
    "name": "ipython",
    "version": 3
   },
   "file_extension": ".py",
   "mimetype": "text/x-python",
   "name": "python",
   "nbconvert_exporter": "python",
   "pygments_lexer": "ipython3",
   "version": "3.6.5"
  }
 },
 "nbformat": 4,
 "nbformat_minor": 2
}
