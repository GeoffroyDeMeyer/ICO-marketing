{
 "cells": [
  {
   "cell_type": "code",
   "execution_count": 54,
   "metadata": {},
   "outputs": [],
   "source": [
    "import pandas as pd\n",
    "import numpy as np\n",
    "import csv\n",
    "import datetime"
   ]
  },
  {
   "cell_type": "code",
   "execution_count": 55,
   "metadata": {},
   "outputs": [],
   "source": [
    "ICO_coin = pd.read_csv(\"/Users/GeoffroyDeMeyer/Desktop/Dathena/Projets/ICO/CSV Data/ICO_coinintelligence.csv\") \n",
    "ICO_icodrops = pd.read_csv(\"/Users/GeoffroyDeMeyer/Desktop/Dathena/Projets/ICO/CSV Data/ICO_icodrops.csv\") "
   ]
  },
  {
   "cell_type": "code",
   "execution_count": 56,
   "metadata": {},
   "outputs": [],
   "source": [
    "with open('ICO_1.csv', 'w', newline='') as csvfile:\n",
    "    fieldnames = ['name', 'category', 'start', 'end', 'USD raised', 'USD aimed', 'ROI rate', 'accepted currency', 'integrity', 'team', 'vision', 'product', 'marketing', 'community', 'risk', 'video', 'website', 'whitepaper', 'facebook', 'twitter', 'instagram', 'linkedin', 'reddit', 'github', 'youtube channel', 'medium', 'bitcointalk', 'steemit', 'slack', 'CEO', 'cofounder', 'CTO', 'event', 'twitter link', 'instagram link', 'linkedin link','youtube channel link','github link']\n",
    "    writer = csv.DictWriter(csvfile, fieldnames=fieldnames)\n",
    "    writer.writeheader()\n",
    "    \n",
    "    for k in range (0,len(ICO_icodrops)) :\n",
    "        if ICO_icodrops.iloc[k]['name'] in ICO_coin['name'].values :\n",
    "            data = {'name' : ICO_icodrops.iloc[k]['name'], 'category' : ICO_icodrops.iloc[k]['category'], \n",
    "                    'start' : ICO_icodrops.iloc[k]['start'], 'end' : ICO_icodrops.iloc[k]['end'], \n",
    "                    'USD raised'  : ICO_icodrops.iloc[k]['USD raised'], 'USD aimed'  : ICO_icodrops.iloc[k]['USD aimed'], \n",
    "                    'ROI rate'  : ICO_icodrops.iloc[k]['ROI rate'], 'accepted currency' : ICO_icodrops.iloc[k]['accepted currency'], \n",
    "                    'integrity'  : ICO_coin.loc[ICO_coin['name'].values == ICO_icodrops.iloc[k]['name']]['integrity'].values[0], 'team' : ICO_coin.loc[ICO_coin['name'].values == ICO_icodrops.iloc[k]['name']]['team'].values[0], 'vision' : ICO_coin.loc[ICO_coin['name'].values == ICO_icodrops.iloc[k]['name']]['vision'].values[0], \n",
    "                    'product' : ICO_coin.loc[ICO_coin['name'].values == ICO_icodrops.iloc[k]['name']]['product'].values[0], 'marketing' : ICO_coin.loc[ICO_coin['name'].values == ICO_icodrops.iloc[k]['name']]['marketing'].values[0], 'community' : ICO_coin.loc[ICO_coin['name'].values == ICO_icodrops.iloc[k]['name']]['community'].values[0], 'risk' : ICO_coin.loc[ICO_coin['name'].values == ICO_icodrops.iloc[k]['name']]['risk'].values[0], 'video' : ICO_icodrops.iloc[k]['video'], \n",
    "                    'website'  : ICO_icodrops.iloc[k]['website'], 'whitepaper'  : ICO_icodrops.iloc[k]['whitepaper'], \n",
    "                    'facebook'  : ICO_icodrops.iloc[k]['facebook'], 'twitter'  : ICO_icodrops.iloc[k]['twitter'], \n",
    "                    'instagram'  : ICO_icodrops.iloc[k]['instagram'], 'linkedin'  : ICO_icodrops.iloc[k]['linkedin'], \n",
    "                    'reddit'  : ICO_icodrops.iloc[k]['reddit'], 'github'  : ICO_icodrops.iloc[k]['github'], \n",
    "                    'youtube channel'  : ICO_icodrops.iloc[k]['youtube channel'], 'medium' : ICO_icodrops.iloc[k]['medium'], \n",
    "                    'bitcointalk' : ICO_icodrops.iloc[k]['bitcointalk'], 'steemit' : ICO_icodrops.iloc[k]['steemit'], \n",
    "                    'slack' : ICO_coin.loc[ICO_coin['name'].values == ICO_icodrops.iloc[k]['name']]['slack'].values[0], 'CEO' : ICO_coin.loc[ICO_coin['name'].values == ICO_icodrops.iloc[k]['name']]['CEO'].values[0], 'cofounder' : ICO_coin.loc[ICO_coin['name'].values == ICO_icodrops.iloc[k]['name']]['cofounder'].values[0], 'CTO' : ICO_coin.loc[ICO_coin['name'].values == ICO_icodrops.iloc[k]['name']]['CTO'].values[0], 'event' : ICO_coin.loc[ICO_coin['name'].values == ICO_icodrops.iloc[k]['name']]['event'].values[0], \n",
    "                    'twitter link' : ICO_icodrops.iloc[k]['twitter link'], 'instagram link' : ICO_icodrops.iloc[k]['instagram link'], \n",
    "                    'linkedin link' : ICO_icodrops.iloc[k]['linkedin link'],'youtube channel link' : ICO_icodrops.iloc[k]['youtube channel link']}\n",
    "        else: \n",
    "            data = {'name' : ICO_icodrops.iloc[k]['name'], 'category' : ICO_icodrops.iloc[k]['category'], 'start' : ICO_icodrops.iloc[k]['start'], 'end' : ICO_icodrops.iloc[k]['end'], 'USD raised'  : ICO_icodrops.iloc[k]['USD raised'], 'USD aimed'  : ICO_icodrops.iloc[k]['USD aimed'], 'ROI rate'  : ICO_icodrops.iloc[k]['ROI rate'], 'accepted currency' : ICO_icodrops.iloc[k]['accepted currency'], 'integrity'  : 5, 'team' : 5, 'vision' : 5, 'product' : 5, 'marketing' : 'mid', 'community' : 'mid', 'risk' : 'mid', 'video' : ICO_icodrops.iloc[k]['video'], 'website'  : ICO_icodrops.iloc[k]['website'], 'whitepaper'  : ICO_icodrops.iloc[k]['whitepaper'], 'facebook'  : ICO_icodrops.iloc[k]['facebook'], 'twitter'  : ICO_icodrops.iloc[k]['twitter'], 'instagram'  : ICO_icodrops.iloc[k]['instagram'], 'linkedin'  : ICO_icodrops.iloc[k]['linkedin'], 'reddit'  : ICO_icodrops.iloc[k]['reddit'], 'github'  : ICO_icodrops.iloc[k]['github'], 'youtube channel'  : ICO_icodrops.iloc[k]['youtube channel'], 'medium' : ICO_icodrops.iloc[k]['medium'], 'bitcointalk' : ICO_icodrops.iloc[k]['bitcointalk'], 'steemit' : ICO_icodrops.iloc[k]['steemit'], 'slack' : 0, 'CEO' : ' ', 'cofounder' : ' ', 'CTO' : ' ', 'event' : 0, 'twitter link' : ICO_icodrops.iloc[k]['twitter link'], 'instagram link' : ICO_icodrops.iloc[k]['instagram link'], 'linkedin link' : ICO_icodrops.iloc[k]['linkedin link'],'youtube channel link' : ICO_icodrops.iloc[k]['youtube channel link'], 'github link' : ICO_icodrops.iloc[k]['github link']}\n",
    "        writer.writerow(data)\n",
    "        \n",
    "    for k in range (0,len(ICO_coin)) : \n",
    "        if ICO_coin.iloc[k]['name'] not in ICO_icodrops['name'].values :\n",
    "            if ICO_coin.iloc[k]['end'] != ' ' :\n",
    "                year = int(ICO_coin.iloc[k]['end'][0:4])\n",
    "                month = int(ICO_coin.iloc[k]['end'][5:7])\n",
    "                day = int(ICO_coin.iloc[k]['end'][8:])\n",
    "                if datetime.date(year, month, day) < datetime.date.today() : \n",
    "                    data = {'name' : ICO_coin.iloc[k]['name'], 'category' : ' ', 'start' : ICO_coin.iloc[k]['start'], \n",
    "                    'end' : ICO_coin.iloc[k]['end'], 'USD raised'  : ICO_coin.iloc[k]['USD raised'], 'USD aimed'  : ICO_coin.iloc[k]['USD aimed'], \n",
    "                    'ROI rate'  : 'Normal', 'accepted currency' : ICO_coin.iloc[k]['accepted currency'], 'integrity'  : ICO_coin.iloc[k]['integrity'],\n",
    "                    'team' : ICO_coin.iloc[k]['team'], 'vision' : ICO_coin.iloc[k]['vision'], 'product' : ICO_coin.iloc[k]['product'], \n",
    "                    'marketing' : ICO_coin.iloc[k]['marketing'], 'community' : ICO_coin.iloc[k]['community'], 'risk' : ICO_coin.iloc[k]['risk'],\n",
    "                    'video' : ICO_coin.iloc[k]['video'], 'website'  : ICO_coin.iloc[k]['website'], 'whitepaper'  : ICO_coin.iloc[k]['whitepaper'], \n",
    "                    'facebook'  : ICO_coin.iloc[k]['facebook'], 'twitter'  : ICO_coin.iloc[k]['twitter'], 'instagram'  : ICO_coin.iloc[k]['instagram'], \n",
    "                    'linkedin'  : ICO_coin.iloc[k]['linkedin'], 'reddit'  : ICO_coin.iloc[k]['reddit'], 'github'  : ICO_coin.iloc[k]['github'], \n",
    "                    'youtube channel'  : 0, 'medium' : ICO_coin.iloc[k]['medium'], 'bitcointalk' : ICO_coin.iloc[k]['bitcointalk'], \n",
    "                    'steemit' : 0, 'slack' : 0, 'CEO' : ICO_coin.iloc[k]['CEO'], 'cofounder' : ICO_coin.iloc[k]['cofounder'], 'CTO' : ICO_coin.iloc[k]['CTO'], 'event' : ICO_coin.iloc[k]['event'], \n",
    "                    'twitter link' : ICO_coin.iloc[k]['twitter link'], 'instagram link' : ' ', \n",
    "                    'linkedin link' : ' ','youtube channel link' : ' ', 'github link' : ICO_coin.iloc[k]['github link']}\n",
    "                    writer.writerow(data)"
   ]
  },
  {
   "cell_type": "code",
   "execution_count": 26,
   "metadata": {},
   "outputs": [
    {
     "data": {
      "text/plain": [
       "datetime.date(2018, 7, 7)"
      ]
     },
     "execution_count": 26,
     "metadata": {},
     "output_type": "execute_result"
    }
   ],
   "source": [
    "datetime.date(2018,7,7) <"
   ]
  },
  {
   "cell_type": "code",
   "execution_count": null,
   "metadata": {},
   "outputs": [],
   "source": []
  }
 ],
 "metadata": {
  "kernelspec": {
   "display_name": "Python 3",
   "language": "python",
   "name": "python3"
  },
  "language_info": {
   "codemirror_mode": {
    "name": "ipython",
    "version": 3
   },
   "file_extension": ".py",
   "mimetype": "text/x-python",
   "name": "python",
   "nbconvert_exporter": "python",
   "pygments_lexer": "ipython3",
   "version": "3.6.5"
  }
 },
 "nbformat": 4,
 "nbformat_minor": 2
}
